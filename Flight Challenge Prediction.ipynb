{
 "cells": [
  {
   "cell_type": "code",
   "execution_count": 1,
   "id": "0afe6029",
   "metadata": {},
   "outputs": [],
   "source": [
    "import numpy as np\n",
    "import pandas as pd\n",
    "import matplotlib.pyplot as plt\n",
    "import seaborn as sns\n",
    "import warnings\n",
    "warnings.filterwarnings(\"ignore\")"
   ]
  },
  {
   "cell_type": "code",
   "execution_count": 6,
   "id": "ea3e4fd0",
   "metadata": {},
   "outputs": [],
   "source": [
    "train = pd.read_csv(r\"C:\\Users\\user\\Videos\\Datasets\\Flight Delay Prediction\\Train (10).csv\")\n",
    "test = pd.read_csv(r\"C:\\Users\\user\\Videos\\Datasets\\Flight Delay Prediction\\Test (7).csv\")\n",
    "sample_submission = pd.read_csv(r\"C:\\Users\\user\\Videos\\Datasets\\Flight Delay Prediction\\SampleSubmission (5).csv\")"
   ]
  },
  {
   "cell_type": "code",
   "execution_count": 7,
   "id": "d56bede4",
   "metadata": {},
   "outputs": [
    {
     "data": {
      "text/html": [
       "<div>\n",
       "<style scoped>\n",
       "    .dataframe tbody tr th:only-of-type {\n",
       "        vertical-align: middle;\n",
       "    }\n",
       "\n",
       "    .dataframe tbody tr th {\n",
       "        vertical-align: top;\n",
       "    }\n",
       "\n",
       "    .dataframe thead th {\n",
       "        text-align: right;\n",
       "    }\n",
       "</style>\n",
       "<table border=\"1\" class=\"dataframe\">\n",
       "  <thead>\n",
       "    <tr style=\"text-align: right;\">\n",
       "      <th></th>\n",
       "      <th>ID</th>\n",
       "      <th>DATOP</th>\n",
       "      <th>FLTID</th>\n",
       "      <th>DEPSTN</th>\n",
       "      <th>ARRSTN</th>\n",
       "      <th>STD</th>\n",
       "      <th>STA</th>\n",
       "      <th>STATUS</th>\n",
       "      <th>AC</th>\n",
       "      <th>target</th>\n",
       "    </tr>\n",
       "  </thead>\n",
       "  <tbody>\n",
       "    <tr>\n",
       "      <th>0</th>\n",
       "      <td>train_id_0</td>\n",
       "      <td>2016-01-03</td>\n",
       "      <td>TU 0712</td>\n",
       "      <td>CMN</td>\n",
       "      <td>TUN</td>\n",
       "      <td>2016-01-03 10:30:00</td>\n",
       "      <td>2016-01-03 12.55.00</td>\n",
       "      <td>ATA</td>\n",
       "      <td>TU 32AIMN</td>\n",
       "      <td>260.0</td>\n",
       "    </tr>\n",
       "    <tr>\n",
       "      <th>1</th>\n",
       "      <td>train_id_1</td>\n",
       "      <td>2016-01-13</td>\n",
       "      <td>TU 0757</td>\n",
       "      <td>MXP</td>\n",
       "      <td>TUN</td>\n",
       "      <td>2016-01-13 15:05:00</td>\n",
       "      <td>2016-01-13 16.55.00</td>\n",
       "      <td>ATA</td>\n",
       "      <td>TU 31BIMO</td>\n",
       "      <td>20.0</td>\n",
       "    </tr>\n",
       "    <tr>\n",
       "      <th>2</th>\n",
       "      <td>train_id_2</td>\n",
       "      <td>2016-01-16</td>\n",
       "      <td>TU 0214</td>\n",
       "      <td>TUN</td>\n",
       "      <td>IST</td>\n",
       "      <td>2016-01-16 04:10:00</td>\n",
       "      <td>2016-01-16 06.45.00</td>\n",
       "      <td>ATA</td>\n",
       "      <td>TU 32AIMN</td>\n",
       "      <td>0.0</td>\n",
       "    </tr>\n",
       "    <tr>\n",
       "      <th>3</th>\n",
       "      <td>train_id_3</td>\n",
       "      <td>2016-01-17</td>\n",
       "      <td>TU 0480</td>\n",
       "      <td>DJE</td>\n",
       "      <td>NTE</td>\n",
       "      <td>2016-01-17 14:10:00</td>\n",
       "      <td>2016-01-17 17.00.00</td>\n",
       "      <td>ATA</td>\n",
       "      <td>TU 736IOK</td>\n",
       "      <td>0.0</td>\n",
       "    </tr>\n",
       "    <tr>\n",
       "      <th>4</th>\n",
       "      <td>train_id_4</td>\n",
       "      <td>2016-01-17</td>\n",
       "      <td>TU 0338</td>\n",
       "      <td>TUN</td>\n",
       "      <td>ALG</td>\n",
       "      <td>2016-01-17 14:30:00</td>\n",
       "      <td>2016-01-17 15.50.00</td>\n",
       "      <td>ATA</td>\n",
       "      <td>TU 320IMU</td>\n",
       "      <td>22.0</td>\n",
       "    </tr>\n",
       "  </tbody>\n",
       "</table>\n",
       "</div>"
      ],
      "text/plain": [
       "           ID       DATOP     FLTID DEPSTN ARRSTN                  STD  \\\n",
       "0  train_id_0  2016-01-03  TU 0712     CMN    TUN  2016-01-03 10:30:00   \n",
       "1  train_id_1  2016-01-13  TU 0757     MXP    TUN  2016-01-13 15:05:00   \n",
       "2  train_id_2  2016-01-16  TU 0214     TUN    IST  2016-01-16 04:10:00   \n",
       "3  train_id_3  2016-01-17  TU 0480     DJE    NTE  2016-01-17 14:10:00   \n",
       "4  train_id_4  2016-01-17  TU 0338     TUN    ALG  2016-01-17 14:30:00   \n",
       "\n",
       "                   STA STATUS         AC  target  \n",
       "0  2016-01-03 12.55.00    ATA  TU 32AIMN   260.0  \n",
       "1  2016-01-13 16.55.00    ATA  TU 31BIMO    20.0  \n",
       "2  2016-01-16 06.45.00    ATA  TU 32AIMN     0.0  \n",
       "3  2016-01-17 17.00.00    ATA  TU 736IOK     0.0  \n",
       "4  2016-01-17 15.50.00    ATA  TU 320IMU    22.0  "
      ]
     },
     "execution_count": 7,
     "metadata": {},
     "output_type": "execute_result"
    }
   ],
   "source": [
    "train.head()"
   ]
  },
  {
   "cell_type": "code",
   "execution_count": 8,
   "id": "e4981293",
   "metadata": {},
   "outputs": [
    {
     "data": {
      "text/plain": [
       "Index(['ID', 'DATOP', 'FLTID', 'DEPSTN', 'ARRSTN', 'STD', 'STA', 'STATUS',\n",
       "       'AC', 'target'],\n",
       "      dtype='object')"
      ]
     },
     "execution_count": 8,
     "metadata": {},
     "output_type": "execute_result"
    }
   ],
   "source": [
    "train.columns"
   ]
  },
  {
   "cell_type": "code",
   "execution_count": 9,
   "id": "b5b63242",
   "metadata": {},
   "outputs": [
    {
     "data": {
      "text/plain": [
       "Index(['ID', 'DATOP', 'FLTID', 'DEPSTN', 'ARRSTN', 'STD', 'STA', 'STATUS',\n",
       "       'AC'],\n",
       "      dtype='object')"
      ]
     },
     "execution_count": 9,
     "metadata": {},
     "output_type": "execute_result"
    }
   ],
   "source": [
    "test.columns"
   ]
  },
  {
   "cell_type": "code",
   "execution_count": 10,
   "id": "d5b89cc7",
   "metadata": {},
   "outputs": [
    {
     "data": {
      "text/plain": [
       "0"
      ]
     },
     "execution_count": 10,
     "metadata": {},
     "output_type": "execute_result"
    }
   ],
   "source": [
    "train.ID.duplicated().sum()"
   ]
  },
  {
   "cell_type": "code",
   "execution_count": 11,
   "id": "52aa7d07",
   "metadata": {},
   "outputs": [
    {
     "data": {
      "text/plain": [
       "0"
      ]
     },
     "execution_count": 11,
     "metadata": {},
     "output_type": "execute_result"
    }
   ],
   "source": [
    "test.ID.duplicated().sum()"
   ]
  },
  {
   "cell_type": "code",
   "execution_count": 12,
   "id": "cec7bc66",
   "metadata": {},
   "outputs": [
    {
     "data": {
      "text/plain": [
       "105972"
      ]
     },
     "execution_count": 12,
     "metadata": {},
     "output_type": "execute_result"
    }
   ],
   "source": [
    "train.FLTID.duplicated().sum()"
   ]
  },
  {
   "cell_type": "code",
   "execution_count": 13,
   "id": "bdd91a52",
   "metadata": {},
   "outputs": [
    {
     "data": {
      "text/plain": [
       "1861"
      ]
     },
     "execution_count": 13,
     "metadata": {},
     "output_type": "execute_result"
    }
   ],
   "source": [
    "len(train.FLTID.unique())"
   ]
  },
  {
   "cell_type": "code",
   "execution_count": 14,
   "id": "93693a05",
   "metadata": {},
   "outputs": [
    {
     "data": {
      "text/plain": [
       "((107833, 10), (9333, 9))"
      ]
     },
     "execution_count": 14,
     "metadata": {},
     "output_type": "execute_result"
    }
   ],
   "source": [
    "train.shape, test.shape"
   ]
  },
  {
   "cell_type": "code",
   "execution_count": 15,
   "id": "1fe6b35b",
   "metadata": {},
   "outputs": [
    {
     "name": "stdout",
     "output_type": "stream",
     "text": [
      "<class 'pandas.core.frame.DataFrame'>\n",
      "RangeIndex: 107833 entries, 0 to 107832\n",
      "Data columns (total 10 columns):\n",
      " #   Column  Non-Null Count   Dtype  \n",
      "---  ------  --------------   -----  \n",
      " 0   ID      107833 non-null  object \n",
      " 1   DATOP   107833 non-null  object \n",
      " 2   FLTID   107833 non-null  object \n",
      " 3   DEPSTN  107833 non-null  object \n",
      " 4   ARRSTN  107833 non-null  object \n",
      " 5   STD     107833 non-null  object \n",
      " 6   STA     107833 non-null  object \n",
      " 7   STATUS  107833 non-null  object \n",
      " 8   AC      107833 non-null  object \n",
      " 9   target  107833 non-null  float64\n",
      "dtypes: float64(1), object(9)\n",
      "memory usage: 8.2+ MB\n"
     ]
    }
   ],
   "source": [
    "train.info()"
   ]
  },
  {
   "cell_type": "code",
   "execution_count": 16,
   "id": "071b8a9e",
   "metadata": {},
   "outputs": [
    {
     "name": "stdout",
     "output_type": "stream",
     "text": [
      "<class 'pandas.core.frame.DataFrame'>\n",
      "RangeIndex: 9333 entries, 0 to 9332\n",
      "Data columns (total 9 columns):\n",
      " #   Column  Non-Null Count  Dtype \n",
      "---  ------  --------------  ----- \n",
      " 0   ID      9333 non-null   object\n",
      " 1   DATOP   9333 non-null   object\n",
      " 2   FLTID   9333 non-null   object\n",
      " 3   DEPSTN  9333 non-null   object\n",
      " 4   ARRSTN  9333 non-null   object\n",
      " 5   STD     9333 non-null   object\n",
      " 6   STA     9333 non-null   object\n",
      " 7   STATUS  9333 non-null   object\n",
      " 8   AC      9333 non-null   object\n",
      "dtypes: object(9)\n",
      "memory usage: 656.4+ KB\n"
     ]
    }
   ],
   "source": [
    "test.info()"
   ]
  },
  {
   "cell_type": "code",
   "execution_count": 17,
   "id": "00399b97",
   "metadata": {},
   "outputs": [],
   "source": [
    "import datetime\n",
    "train[\"STA\"] = train[\"STA\"].map(lambda x : datetime.datetime.strptime(x, \"%Y-%m-%d %H.%M.%S\").strftime(\"%Y-%m-%d %H:%M:%S\"))\n",
    "test[\"STA\"] = test[\"STA\"].map(lambda x : datetime.datetime.strptime(x, \"%Y-%m-%d %H.%M.%S\").strftime(\"%Y-%m-%d %H:%M:%S\"))"
   ]
  },
  {
   "cell_type": "code",
   "execution_count": 18,
   "id": "4772dd16",
   "metadata": {},
   "outputs": [
    {
     "data": {
      "text/plain": [
       "0    2016-01-03 12:55:00\n",
       "1    2016-01-13 16:55:00\n",
       "2    2016-01-16 06:45:00\n",
       "3    2016-01-17 17:00:00\n",
       "4    2016-01-17 15:50:00\n",
       "Name: STA, dtype: object"
      ]
     },
     "execution_count": 18,
     "metadata": {},
     "output_type": "execute_result"
    }
   ],
   "source": [
    "train[\"STA\"].head()"
   ]
  },
  {
   "cell_type": "code",
   "execution_count": 19,
   "id": "4578df6b",
   "metadata": {},
   "outputs": [],
   "source": [
    "for i in ['DATOP','STD','STA']:\n",
    "    train[i] = pd.to_datetime(train[i])\n",
    "    test[i] = pd.to_datetime(test[i])"
   ]
  },
  {
   "cell_type": "code",
   "execution_count": 20,
   "id": "38aaa51e",
   "metadata": {},
   "outputs": [],
   "source": [
    "# The markers for Parts ofthe day used are {1 - \"Morning\", 2- \"Afternoon\", 3- \"Evening\", 4- \"Night\"}\n",
    "# The markers for the seasons of the year are {1 - \"Winter\", 2 - \"Spring\", 3 - \"Summer\", 4 - \"Fall\"}\n",
    "\n",
    "for i in [\"STD\",\"STA\",\"DATOP\"]:\n",
    "    train[i+\"_month\"] = pd.DatetimeIndex(train[i]).month\n",
    "    train[i+\"_year\"] = pd.DatetimeIndex(train[i]).year\n",
    "    train[i+\"_day_of_week\"] = pd.DatetimeIndex(train[i]).day_of_week\n",
    "    train[i+\"_is_year_end\"] = pd.DatetimeIndex(train[i]).is_year_end\n",
    "    train[i+\"_is_year_start\"] = pd.DatetimeIndex(train[i]).is_year_start\n",
    "    train[i+\"_Seasons\"] = train[i+\"_month\"] % 12 // 3 + 1\n",
    "\n",
    "\n",
    "    def get_part_of_day(hour):\n",
    "        return (\n",
    "            1 if 5 <= hour <= 11\n",
    "            else\n",
    "            2 if 12 <= hour <= 17\n",
    "            else\n",
    "            3 if 18 <= hour <= 22\n",
    "            else\n",
    "            4)\n",
    "\n",
    "    train[i+\"_Hour\"] = pd.DatetimeIndex(train[i]).hour\n",
    "    train[i+'part_of_day'] = train[i+\"_Hour\"].map(get_part_of_day)"
   ]
  },
  {
   "cell_type": "code",
   "execution_count": 21,
   "id": "c6ebaf33",
   "metadata": {},
   "outputs": [],
   "source": [
    "train[\"departure_time\"] = (train[\"STD\"] - train[\"DATOP\"]) / np.timedelta64(1, \"m\")\n",
    "train[\"diff_in dept&arr_time\"] = (train[\"STA\"] - train[\"STD\"]) / np.timedelta64(1, \"m\")\n",
    "train[\"arrival_time\"] = (train[\"STA\"] - train[\"DATOP\"]) / np.timedelta64(1,\"m\")"
   ]
  },
  {
   "cell_type": "code",
   "execution_count": 22,
   "id": "43822174",
   "metadata": {},
   "outputs": [],
   "source": [
    "for i in [\"STD\",\"STA\",\"DATOP\"]:\n",
    "    test[i+\"_month\"] = pd.DatetimeIndex(test[i]).month\n",
    "    test[i+\"_year\"] = pd.DatetimeIndex(test[i]).year\n",
    "    test[i+\"_day_of_week\"] = pd.DatetimeIndex(test[i]).day_of_week\n",
    "    test[i+\"_is_year_end\"] = pd.DatetimeIndex(test[i]).is_year_end\n",
    "    test[i+\"_is_year_start\"] = pd.DatetimeIndex(test[i]).is_year_start\n",
    "    test[i+\"_Seasons\"] = test[i+\"_month\"] % 12 // 3 + 1\n",
    "\n",
    "\n",
    "    def get_part_of_day(hour):\n",
    "        return (\n",
    "            1 if 5 <= hour <= 11\n",
    "            else\n",
    "            2 if 12 <= hour <= 17\n",
    "            else\n",
    "            3 if 18 <= hour <= 22\n",
    "            else\n",
    "            4)\n",
    "\n",
    "    test[i+\"_Hour\"] = pd.DatetimeIndex(test[i]).hour\n",
    "    test[i+'part_of_day'] = test[i+\"_Hour\"].map(get_part_of_day)"
   ]
  },
  {
   "cell_type": "code",
   "execution_count": 23,
   "id": "78a46f8c",
   "metadata": {},
   "outputs": [],
   "source": [
    "test[\"departure_time\"] = (test[\"STD\"] - test[\"DATOP\"]) / np.timedelta64(1, \"m\")\n",
    "test[\"diff_in dept&arr_time\"] = (test[\"STA\"] - test[\"STD\"]) / np.timedelta64(1, \"m\")\n",
    "test[\"arrival_time\"] = (test[\"STA\"] - test[\"DATOP\"]) / np.timedelta64(1,\"m\")"
   ]
  },
  {
   "cell_type": "code",
   "execution_count": 24,
   "id": "025dcc42",
   "metadata": {},
   "outputs": [
    {
     "data": {
      "text/plain": [
       "array(['ATA', 'DEP', 'RTR', 'SCH', 'DEL'], dtype=object)"
      ]
     },
     "execution_count": 24,
     "metadata": {},
     "output_type": "execute_result"
    }
   ],
   "source": [
    "train.STATUS.unique()"
   ]
  },
  {
   "cell_type": "code",
   "execution_count": 25,
   "id": "335ce371",
   "metadata": {},
   "outputs": [
    {
     "data": {
      "text/plain": [
       "132"
      ]
     },
     "execution_count": 25,
     "metadata": {},
     "output_type": "execute_result"
    }
   ],
   "source": [
    "len(train.DEPSTN.unique())"
   ]
  },
  {
   "cell_type": "code",
   "execution_count": 26,
   "id": "ad65d8d4",
   "metadata": {},
   "outputs": [
    {
     "data": {
      "text/plain": [
       "128"
      ]
     },
     "execution_count": 26,
     "metadata": {},
     "output_type": "execute_result"
    }
   ],
   "source": [
    "len(train.ARRSTN.unique())"
   ]
  },
  {
   "cell_type": "code",
   "execution_count": 27,
   "id": "9911333e",
   "metadata": {},
   "outputs": [
    {
     "data": {
      "text/plain": [
       "68"
      ]
     },
     "execution_count": 27,
     "metadata": {},
     "output_type": "execute_result"
    }
   ],
   "source": [
    "len(train.AC.unique())"
   ]
  },
  {
   "cell_type": "code",
   "execution_count": 28,
   "id": "12e34b51",
   "metadata": {},
   "outputs": [],
   "source": [
    "from sklearn.preprocessing import LabelEncoder\n",
    "\n",
    "col = [\"STATUS\", \"DEPSTN\",\"ARRSTN\",\"AC\",\"FLTID\"] \n",
    "\n",
    "for i in col:\n",
    "    Encoder = LabelEncoder()\n",
    "    train[i] = Encoder.fit_transform(train[i])"
   ]
  },
  {
   "cell_type": "code",
   "execution_count": 29,
   "id": "9beaf793",
   "metadata": {},
   "outputs": [],
   "source": [
    "for i in col:\n",
    "    Encoder = LabelEncoder()\n",
    "    test[i] = Encoder.fit_transform(test[i])"
   ]
  },
  {
   "cell_type": "code",
   "execution_count": 30,
   "id": "1b82dad4",
   "metadata": {},
   "outputs": [
    {
     "data": {
      "text/html": [
       "<div>\n",
       "<style scoped>\n",
       "    .dataframe tbody tr th:only-of-type {\n",
       "        vertical-align: middle;\n",
       "    }\n",
       "\n",
       "    .dataframe tbody tr th {\n",
       "        vertical-align: top;\n",
       "    }\n",
       "\n",
       "    .dataframe thead th {\n",
       "        text-align: right;\n",
       "    }\n",
       "</style>\n",
       "<table border=\"1\" class=\"dataframe\">\n",
       "  <thead>\n",
       "    <tr style=\"text-align: right;\">\n",
       "      <th></th>\n",
       "      <th>ID</th>\n",
       "      <th>DATOP</th>\n",
       "      <th>FLTID</th>\n",
       "      <th>DEPSTN</th>\n",
       "      <th>ARRSTN</th>\n",
       "      <th>STD</th>\n",
       "      <th>STA</th>\n",
       "      <th>STATUS</th>\n",
       "      <th>AC</th>\n",
       "      <th>target</th>\n",
       "      <th>...</th>\n",
       "      <th>DATOP_year</th>\n",
       "      <th>DATOP_day_of_week</th>\n",
       "      <th>DATOP_is_year_end</th>\n",
       "      <th>DATOP_is_year_start</th>\n",
       "      <th>DATOP_Seasons</th>\n",
       "      <th>DATOP_Hour</th>\n",
       "      <th>DATOPpart_of_day</th>\n",
       "      <th>departure_time</th>\n",
       "      <th>diff_in dept&amp;arr_time</th>\n",
       "      <th>arrival_time</th>\n",
       "    </tr>\n",
       "  </thead>\n",
       "  <tbody>\n",
       "    <tr>\n",
       "      <th>0</th>\n",
       "      <td>train_id_0</td>\n",
       "      <td>2016-01-03</td>\n",
       "      <td>230</td>\n",
       "      <td>31</td>\n",
       "      <td>119</td>\n",
       "      <td>2016-01-03 10:30:00</td>\n",
       "      <td>2016-01-03 12:55:00</td>\n",
       "      <td>0</td>\n",
       "      <td>46</td>\n",
       "      <td>260.0</td>\n",
       "      <td>...</td>\n",
       "      <td>2016</td>\n",
       "      <td>6</td>\n",
       "      <td>False</td>\n",
       "      <td>False</td>\n",
       "      <td>1</td>\n",
       "      <td>0</td>\n",
       "      <td>4</td>\n",
       "      <td>630.0</td>\n",
       "      <td>145.0</td>\n",
       "      <td>775.0</td>\n",
       "    </tr>\n",
       "    <tr>\n",
       "      <th>1</th>\n",
       "      <td>train_id_1</td>\n",
       "      <td>2016-01-13</td>\n",
       "      <td>257</td>\n",
       "      <td>86</td>\n",
       "      <td>119</td>\n",
       "      <td>2016-01-13 15:05:00</td>\n",
       "      <td>2016-01-13 16:55:00</td>\n",
       "      <td>0</td>\n",
       "      <td>28</td>\n",
       "      <td>20.0</td>\n",
       "      <td>...</td>\n",
       "      <td>2016</td>\n",
       "      <td>2</td>\n",
       "      <td>False</td>\n",
       "      <td>False</td>\n",
       "      <td>1</td>\n",
       "      <td>0</td>\n",
       "      <td>4</td>\n",
       "      <td>905.0</td>\n",
       "      <td>110.0</td>\n",
       "      <td>1015.0</td>\n",
       "    </tr>\n",
       "    <tr>\n",
       "      <th>2</th>\n",
       "      <td>train_id_2</td>\n",
       "      <td>2016-01-16</td>\n",
       "      <td>86</td>\n",
       "      <td>123</td>\n",
       "      <td>58</td>\n",
       "      <td>2016-01-16 04:10:00</td>\n",
       "      <td>2016-01-16 06:45:00</td>\n",
       "      <td>0</td>\n",
       "      <td>46</td>\n",
       "      <td>0.0</td>\n",
       "      <td>...</td>\n",
       "      <td>2016</td>\n",
       "      <td>5</td>\n",
       "      <td>False</td>\n",
       "      <td>False</td>\n",
       "      <td>1</td>\n",
       "      <td>0</td>\n",
       "      <td>4</td>\n",
       "      <td>250.0</td>\n",
       "      <td>155.0</td>\n",
       "      <td>405.0</td>\n",
       "    </tr>\n",
       "    <tr>\n",
       "      <th>3</th>\n",
       "      <td>train_id_3</td>\n",
       "      <td>2016-01-17</td>\n",
       "      <td>164</td>\n",
       "      <td>37</td>\n",
       "      <td>91</td>\n",
       "      <td>2016-01-17 14:10:00</td>\n",
       "      <td>2016-01-17 17:00:00</td>\n",
       "      <td>0</td>\n",
       "      <td>50</td>\n",
       "      <td>0.0</td>\n",
       "      <td>...</td>\n",
       "      <td>2016</td>\n",
       "      <td>6</td>\n",
       "      <td>False</td>\n",
       "      <td>False</td>\n",
       "      <td>1</td>\n",
       "      <td>0</td>\n",
       "      <td>4</td>\n",
       "      <td>850.0</td>\n",
       "      <td>170.0</td>\n",
       "      <td>1020.0</td>\n",
       "    </tr>\n",
       "    <tr>\n",
       "      <th>4</th>\n",
       "      <td>train_id_4</td>\n",
       "      <td>2016-01-17</td>\n",
       "      <td>136</td>\n",
       "      <td>123</td>\n",
       "      <td>4</td>\n",
       "      <td>2016-01-17 14:30:00</td>\n",
       "      <td>2016-01-17 15:50:00</td>\n",
       "      <td>0</td>\n",
       "      <td>34</td>\n",
       "      <td>22.0</td>\n",
       "      <td>...</td>\n",
       "      <td>2016</td>\n",
       "      <td>6</td>\n",
       "      <td>False</td>\n",
       "      <td>False</td>\n",
       "      <td>1</td>\n",
       "      <td>0</td>\n",
       "      <td>4</td>\n",
       "      <td>870.0</td>\n",
       "      <td>80.0</td>\n",
       "      <td>950.0</td>\n",
       "    </tr>\n",
       "  </tbody>\n",
       "</table>\n",
       "<p>5 rows × 37 columns</p>\n",
       "</div>"
      ],
      "text/plain": [
       "           ID      DATOP  FLTID  DEPSTN  ARRSTN                 STD  \\\n",
       "0  train_id_0 2016-01-03    230      31     119 2016-01-03 10:30:00   \n",
       "1  train_id_1 2016-01-13    257      86     119 2016-01-13 15:05:00   \n",
       "2  train_id_2 2016-01-16     86     123      58 2016-01-16 04:10:00   \n",
       "3  train_id_3 2016-01-17    164      37      91 2016-01-17 14:10:00   \n",
       "4  train_id_4 2016-01-17    136     123       4 2016-01-17 14:30:00   \n",
       "\n",
       "                  STA  STATUS  AC  target  ...  DATOP_year  DATOP_day_of_week  \\\n",
       "0 2016-01-03 12:55:00       0  46   260.0  ...        2016                  6   \n",
       "1 2016-01-13 16:55:00       0  28    20.0  ...        2016                  2   \n",
       "2 2016-01-16 06:45:00       0  46     0.0  ...        2016                  5   \n",
       "3 2016-01-17 17:00:00       0  50     0.0  ...        2016                  6   \n",
       "4 2016-01-17 15:50:00       0  34    22.0  ...        2016                  6   \n",
       "\n",
       "   DATOP_is_year_end  DATOP_is_year_start  DATOP_Seasons  DATOP_Hour  \\\n",
       "0              False                False              1           0   \n",
       "1              False                False              1           0   \n",
       "2              False                False              1           0   \n",
       "3              False                False              1           0   \n",
       "4              False                False              1           0   \n",
       "\n",
       "   DATOPpart_of_day  departure_time  diff_in dept&arr_time  arrival_time  \n",
       "0                 4           630.0                  145.0         775.0  \n",
       "1                 4           905.0                  110.0        1015.0  \n",
       "2                 4           250.0                  155.0         405.0  \n",
       "3                 4           850.0                  170.0        1020.0  \n",
       "4                 4           870.0                   80.0         950.0  \n",
       "\n",
       "[5 rows x 37 columns]"
      ]
     },
     "execution_count": 30,
     "metadata": {},
     "output_type": "execute_result"
    }
   ],
   "source": [
    "train.head()"
   ]
  },
  {
   "cell_type": "code",
   "execution_count": 31,
   "id": "d680e4ff",
   "metadata": {},
   "outputs": [
    {
     "data": {
      "text/html": [
       "<div>\n",
       "<style scoped>\n",
       "    .dataframe tbody tr th:only-of-type {\n",
       "        vertical-align: middle;\n",
       "    }\n",
       "\n",
       "    .dataframe tbody tr th {\n",
       "        vertical-align: top;\n",
       "    }\n",
       "\n",
       "    .dataframe thead th {\n",
       "        text-align: right;\n",
       "    }\n",
       "</style>\n",
       "<table border=\"1\" class=\"dataframe\">\n",
       "  <thead>\n",
       "    <tr style=\"text-align: right;\">\n",
       "      <th></th>\n",
       "      <th>ID</th>\n",
       "      <th>DATOP</th>\n",
       "      <th>FLTID</th>\n",
       "      <th>DEPSTN</th>\n",
       "      <th>ARRSTN</th>\n",
       "      <th>STD</th>\n",
       "      <th>STA</th>\n",
       "      <th>STATUS</th>\n",
       "      <th>AC</th>\n",
       "      <th>STD_month</th>\n",
       "      <th>...</th>\n",
       "      <th>DATOP_year</th>\n",
       "      <th>DATOP_day_of_week</th>\n",
       "      <th>DATOP_is_year_end</th>\n",
       "      <th>DATOP_is_year_start</th>\n",
       "      <th>DATOP_Seasons</th>\n",
       "      <th>DATOP_Hour</th>\n",
       "      <th>DATOPpart_of_day</th>\n",
       "      <th>departure_time</th>\n",
       "      <th>diff_in dept&amp;arr_time</th>\n",
       "      <th>arrival_time</th>\n",
       "    </tr>\n",
       "  </thead>\n",
       "  <tbody>\n",
       "    <tr>\n",
       "      <th>0</th>\n",
       "      <td>test_id_0</td>\n",
       "      <td>2016-05-04</td>\n",
       "      <td>124</td>\n",
       "      <td>23</td>\n",
       "      <td>76</td>\n",
       "      <td>2016-05-04 06:40:00</td>\n",
       "      <td>2016-05-04 07:30:00</td>\n",
       "      <td>0</td>\n",
       "      <td>22</td>\n",
       "      <td>5</td>\n",
       "      <td>...</td>\n",
       "      <td>2016</td>\n",
       "      <td>2</td>\n",
       "      <td>False</td>\n",
       "      <td>False</td>\n",
       "      <td>2</td>\n",
       "      <td>0</td>\n",
       "      <td>4</td>\n",
       "      <td>400.0</td>\n",
       "      <td>50.0</td>\n",
       "      <td>450.0</td>\n",
       "    </tr>\n",
       "    <tr>\n",
       "      <th>1</th>\n",
       "      <td>test_id_1</td>\n",
       "      <td>2016-05-05</td>\n",
       "      <td>53</td>\n",
       "      <td>74</td>\n",
       "      <td>9</td>\n",
       "      <td>2016-05-05 15:20:00</td>\n",
       "      <td>2016-05-05 20:05:00</td>\n",
       "      <td>0</td>\n",
       "      <td>19</td>\n",
       "      <td>5</td>\n",
       "      <td>...</td>\n",
       "      <td>2016</td>\n",
       "      <td>3</td>\n",
       "      <td>False</td>\n",
       "      <td>False</td>\n",
       "      <td>2</td>\n",
       "      <td>0</td>\n",
       "      <td>4</td>\n",
       "      <td>920.0</td>\n",
       "      <td>285.0</td>\n",
       "      <td>1205.0</td>\n",
       "    </tr>\n",
       "    <tr>\n",
       "      <th>2</th>\n",
       "      <td>test_id_2</td>\n",
       "      <td>2016-05-06</td>\n",
       "      <td>151</td>\n",
       "      <td>29</td>\n",
       "      <td>76</td>\n",
       "      <td>2016-05-06 10:00:00</td>\n",
       "      <td>2016-05-06 12:25:00</td>\n",
       "      <td>0</td>\n",
       "      <td>20</td>\n",
       "      <td>5</td>\n",
       "      <td>...</td>\n",
       "      <td>2016</td>\n",
       "      <td>4</td>\n",
       "      <td>False</td>\n",
       "      <td>False</td>\n",
       "      <td>2</td>\n",
       "      <td>0</td>\n",
       "      <td>4</td>\n",
       "      <td>600.0</td>\n",
       "      <td>145.0</td>\n",
       "      <td>745.0</td>\n",
       "    </tr>\n",
       "    <tr>\n",
       "      <th>3</th>\n",
       "      <td>test_id_3</td>\n",
       "      <td>2016-05-11</td>\n",
       "      <td>172</td>\n",
       "      <td>7</td>\n",
       "      <td>76</td>\n",
       "      <td>2016-05-11 09:40:00</td>\n",
       "      <td>2016-05-11 13:10:00</td>\n",
       "      <td>0</td>\n",
       "      <td>12</td>\n",
       "      <td>5</td>\n",
       "      <td>...</td>\n",
       "      <td>2016</td>\n",
       "      <td>2</td>\n",
       "      <td>False</td>\n",
       "      <td>False</td>\n",
       "      <td>2</td>\n",
       "      <td>0</td>\n",
       "      <td>4</td>\n",
       "      <td>580.0</td>\n",
       "      <td>210.0</td>\n",
       "      <td>790.0</td>\n",
       "    </tr>\n",
       "    <tr>\n",
       "      <th>4</th>\n",
       "      <td>test_id_4</td>\n",
       "      <td>2016-05-11</td>\n",
       "      <td>109</td>\n",
       "      <td>62</td>\n",
       "      <td>50</td>\n",
       "      <td>2016-05-11 09:50:00</td>\n",
       "      <td>2016-05-11 12:35:00</td>\n",
       "      <td>0</td>\n",
       "      <td>37</td>\n",
       "      <td>5</td>\n",
       "      <td>...</td>\n",
       "      <td>2016</td>\n",
       "      <td>2</td>\n",
       "      <td>False</td>\n",
       "      <td>False</td>\n",
       "      <td>2</td>\n",
       "      <td>0</td>\n",
       "      <td>4</td>\n",
       "      <td>590.0</td>\n",
       "      <td>165.0</td>\n",
       "      <td>755.0</td>\n",
       "    </tr>\n",
       "  </tbody>\n",
       "</table>\n",
       "<p>5 rows × 36 columns</p>\n",
       "</div>"
      ],
      "text/plain": [
       "          ID      DATOP  FLTID  DEPSTN  ARRSTN                 STD  \\\n",
       "0  test_id_0 2016-05-04    124      23      76 2016-05-04 06:40:00   \n",
       "1  test_id_1 2016-05-05     53      74       9 2016-05-05 15:20:00   \n",
       "2  test_id_2 2016-05-06    151      29      76 2016-05-06 10:00:00   \n",
       "3  test_id_3 2016-05-11    172       7      76 2016-05-11 09:40:00   \n",
       "4  test_id_4 2016-05-11    109      62      50 2016-05-11 09:50:00   \n",
       "\n",
       "                  STA  STATUS  AC  STD_month  ...  DATOP_year  \\\n",
       "0 2016-05-04 07:30:00       0  22          5  ...        2016   \n",
       "1 2016-05-05 20:05:00       0  19          5  ...        2016   \n",
       "2 2016-05-06 12:25:00       0  20          5  ...        2016   \n",
       "3 2016-05-11 13:10:00       0  12          5  ...        2016   \n",
       "4 2016-05-11 12:35:00       0  37          5  ...        2016   \n",
       "\n",
       "   DATOP_day_of_week  DATOP_is_year_end  DATOP_is_year_start  DATOP_Seasons  \\\n",
       "0                  2              False                False              2   \n",
       "1                  3              False                False              2   \n",
       "2                  4              False                False              2   \n",
       "3                  2              False                False              2   \n",
       "4                  2              False                False              2   \n",
       "\n",
       "   DATOP_Hour  DATOPpart_of_day  departure_time  diff_in dept&arr_time  \\\n",
       "0           0                 4           400.0                   50.0   \n",
       "1           0                 4           920.0                  285.0   \n",
       "2           0                 4           600.0                  145.0   \n",
       "3           0                 4           580.0                  210.0   \n",
       "4           0                 4           590.0                  165.0   \n",
       "\n",
       "   arrival_time  \n",
       "0         450.0  \n",
       "1        1205.0  \n",
       "2         745.0  \n",
       "3         790.0  \n",
       "4         755.0  \n",
       "\n",
       "[5 rows x 36 columns]"
      ]
     },
     "execution_count": 31,
     "metadata": {},
     "output_type": "execute_result"
    }
   ],
   "source": [
    "test.head()"
   ]
  },
  {
   "cell_type": "code",
   "execution_count": 32,
   "id": "86a62cba",
   "metadata": {},
   "outputs": [],
   "source": [
    "train_data = train.drop(labels = [\"ID\",\"DATOP\",\"STD\",\"STA\"], axis = 1)"
   ]
  },
  {
   "cell_type": "code",
   "execution_count": 33,
   "id": "8f727079",
   "metadata": {},
   "outputs": [],
   "source": [
    "test_data = test.drop(labels = [\"ID\",\"DATOP\",\"STD\",\"STA\"], axis = 1)"
   ]
  },
  {
   "cell_type": "code",
   "execution_count": 34,
   "id": "e10070a0",
   "metadata": {},
   "outputs": [
    {
     "data": {
      "text/html": [
       "<div>\n",
       "<style scoped>\n",
       "    .dataframe tbody tr th:only-of-type {\n",
       "        vertical-align: middle;\n",
       "    }\n",
       "\n",
       "    .dataframe tbody tr th {\n",
       "        vertical-align: top;\n",
       "    }\n",
       "\n",
       "    .dataframe thead th {\n",
       "        text-align: right;\n",
       "    }\n",
       "</style>\n",
       "<table border=\"1\" class=\"dataframe\">\n",
       "  <thead>\n",
       "    <tr style=\"text-align: right;\">\n",
       "      <th></th>\n",
       "      <th>FLTID</th>\n",
       "      <th>DEPSTN</th>\n",
       "      <th>ARRSTN</th>\n",
       "      <th>STATUS</th>\n",
       "      <th>AC</th>\n",
       "      <th>target</th>\n",
       "      <th>STD_month</th>\n",
       "      <th>STD_year</th>\n",
       "      <th>STD_day_of_week</th>\n",
       "      <th>STD_is_year_end</th>\n",
       "      <th>...</th>\n",
       "      <th>DATOP_year</th>\n",
       "      <th>DATOP_day_of_week</th>\n",
       "      <th>DATOP_is_year_end</th>\n",
       "      <th>DATOP_is_year_start</th>\n",
       "      <th>DATOP_Seasons</th>\n",
       "      <th>DATOP_Hour</th>\n",
       "      <th>DATOPpart_of_day</th>\n",
       "      <th>departure_time</th>\n",
       "      <th>diff_in dept&amp;arr_time</th>\n",
       "      <th>arrival_time</th>\n",
       "    </tr>\n",
       "  </thead>\n",
       "  <tbody>\n",
       "    <tr>\n",
       "      <th>0</th>\n",
       "      <td>230</td>\n",
       "      <td>31</td>\n",
       "      <td>119</td>\n",
       "      <td>0</td>\n",
       "      <td>46</td>\n",
       "      <td>260.0</td>\n",
       "      <td>1</td>\n",
       "      <td>2016</td>\n",
       "      <td>6</td>\n",
       "      <td>False</td>\n",
       "      <td>...</td>\n",
       "      <td>2016</td>\n",
       "      <td>6</td>\n",
       "      <td>False</td>\n",
       "      <td>False</td>\n",
       "      <td>1</td>\n",
       "      <td>0</td>\n",
       "      <td>4</td>\n",
       "      <td>630.0</td>\n",
       "      <td>145.0</td>\n",
       "      <td>775.0</td>\n",
       "    </tr>\n",
       "    <tr>\n",
       "      <th>1</th>\n",
       "      <td>257</td>\n",
       "      <td>86</td>\n",
       "      <td>119</td>\n",
       "      <td>0</td>\n",
       "      <td>28</td>\n",
       "      <td>20.0</td>\n",
       "      <td>1</td>\n",
       "      <td>2016</td>\n",
       "      <td>2</td>\n",
       "      <td>False</td>\n",
       "      <td>...</td>\n",
       "      <td>2016</td>\n",
       "      <td>2</td>\n",
       "      <td>False</td>\n",
       "      <td>False</td>\n",
       "      <td>1</td>\n",
       "      <td>0</td>\n",
       "      <td>4</td>\n",
       "      <td>905.0</td>\n",
       "      <td>110.0</td>\n",
       "      <td>1015.0</td>\n",
       "    </tr>\n",
       "    <tr>\n",
       "      <th>2</th>\n",
       "      <td>86</td>\n",
       "      <td>123</td>\n",
       "      <td>58</td>\n",
       "      <td>0</td>\n",
       "      <td>46</td>\n",
       "      <td>0.0</td>\n",
       "      <td>1</td>\n",
       "      <td>2016</td>\n",
       "      <td>5</td>\n",
       "      <td>False</td>\n",
       "      <td>...</td>\n",
       "      <td>2016</td>\n",
       "      <td>5</td>\n",
       "      <td>False</td>\n",
       "      <td>False</td>\n",
       "      <td>1</td>\n",
       "      <td>0</td>\n",
       "      <td>4</td>\n",
       "      <td>250.0</td>\n",
       "      <td>155.0</td>\n",
       "      <td>405.0</td>\n",
       "    </tr>\n",
       "    <tr>\n",
       "      <th>3</th>\n",
       "      <td>164</td>\n",
       "      <td>37</td>\n",
       "      <td>91</td>\n",
       "      <td>0</td>\n",
       "      <td>50</td>\n",
       "      <td>0.0</td>\n",
       "      <td>1</td>\n",
       "      <td>2016</td>\n",
       "      <td>6</td>\n",
       "      <td>False</td>\n",
       "      <td>...</td>\n",
       "      <td>2016</td>\n",
       "      <td>6</td>\n",
       "      <td>False</td>\n",
       "      <td>False</td>\n",
       "      <td>1</td>\n",
       "      <td>0</td>\n",
       "      <td>4</td>\n",
       "      <td>850.0</td>\n",
       "      <td>170.0</td>\n",
       "      <td>1020.0</td>\n",
       "    </tr>\n",
       "    <tr>\n",
       "      <th>4</th>\n",
       "      <td>136</td>\n",
       "      <td>123</td>\n",
       "      <td>4</td>\n",
       "      <td>0</td>\n",
       "      <td>34</td>\n",
       "      <td>22.0</td>\n",
       "      <td>1</td>\n",
       "      <td>2016</td>\n",
       "      <td>6</td>\n",
       "      <td>False</td>\n",
       "      <td>...</td>\n",
       "      <td>2016</td>\n",
       "      <td>6</td>\n",
       "      <td>False</td>\n",
       "      <td>False</td>\n",
       "      <td>1</td>\n",
       "      <td>0</td>\n",
       "      <td>4</td>\n",
       "      <td>870.0</td>\n",
       "      <td>80.0</td>\n",
       "      <td>950.0</td>\n",
       "    </tr>\n",
       "  </tbody>\n",
       "</table>\n",
       "<p>5 rows × 33 columns</p>\n",
       "</div>"
      ],
      "text/plain": [
       "   FLTID  DEPSTN  ARRSTN  STATUS  AC  target  STD_month  STD_year  \\\n",
       "0    230      31     119       0  46   260.0          1      2016   \n",
       "1    257      86     119       0  28    20.0          1      2016   \n",
       "2     86     123      58       0  46     0.0          1      2016   \n",
       "3    164      37      91       0  50     0.0          1      2016   \n",
       "4    136     123       4       0  34    22.0          1      2016   \n",
       "\n",
       "   STD_day_of_week  STD_is_year_end  ...  DATOP_year  DATOP_day_of_week  \\\n",
       "0                6            False  ...        2016                  6   \n",
       "1                2            False  ...        2016                  2   \n",
       "2                5            False  ...        2016                  5   \n",
       "3                6            False  ...        2016                  6   \n",
       "4                6            False  ...        2016                  6   \n",
       "\n",
       "   DATOP_is_year_end  DATOP_is_year_start  DATOP_Seasons  DATOP_Hour  \\\n",
       "0              False                False              1           0   \n",
       "1              False                False              1           0   \n",
       "2              False                False              1           0   \n",
       "3              False                False              1           0   \n",
       "4              False                False              1           0   \n",
       "\n",
       "   DATOPpart_of_day  departure_time  diff_in dept&arr_time  arrival_time  \n",
       "0                 4           630.0                  145.0         775.0  \n",
       "1                 4           905.0                  110.0        1015.0  \n",
       "2                 4           250.0                  155.0         405.0  \n",
       "3                 4           850.0                  170.0        1020.0  \n",
       "4                 4           870.0                   80.0         950.0  \n",
       "\n",
       "[5 rows x 33 columns]"
      ]
     },
     "execution_count": 34,
     "metadata": {},
     "output_type": "execute_result"
    }
   ],
   "source": [
    "train_data.head()"
   ]
  },
  {
   "cell_type": "code",
   "execution_count": 35,
   "id": "b101f179",
   "metadata": {},
   "outputs": [
    {
     "name": "stdout",
     "output_type": "stream",
     "text": [
      "<class 'pandas.core.frame.DataFrame'>\n",
      "RangeIndex: 107833 entries, 0 to 107832\n",
      "Data columns (total 33 columns):\n",
      " #   Column                 Non-Null Count   Dtype  \n",
      "---  ------                 --------------   -----  \n",
      " 0   FLTID                  107833 non-null  int32  \n",
      " 1   DEPSTN                 107833 non-null  int32  \n",
      " 2   ARRSTN                 107833 non-null  int32  \n",
      " 3   STATUS                 107833 non-null  int32  \n",
      " 4   AC                     107833 non-null  int32  \n",
      " 5   target                 107833 non-null  float64\n",
      " 6   STD_month              107833 non-null  int64  \n",
      " 7   STD_year               107833 non-null  int64  \n",
      " 8   STD_day_of_week        107833 non-null  int64  \n",
      " 9   STD_is_year_end        107833 non-null  bool   \n",
      " 10  STD_is_year_start      107833 non-null  bool   \n",
      " 11  STD_Seasons            107833 non-null  int64  \n",
      " 12  STD_Hour               107833 non-null  int64  \n",
      " 13  STDpart_of_day         107833 non-null  int64  \n",
      " 14  STA_month              107833 non-null  int64  \n",
      " 15  STA_year               107833 non-null  int64  \n",
      " 16  STA_day_of_week        107833 non-null  int64  \n",
      " 17  STA_is_year_end        107833 non-null  bool   \n",
      " 18  STA_is_year_start      107833 non-null  bool   \n",
      " 19  STA_Seasons            107833 non-null  int64  \n",
      " 20  STA_Hour               107833 non-null  int64  \n",
      " 21  STApart_of_day         107833 non-null  int64  \n",
      " 22  DATOP_month            107833 non-null  int64  \n",
      " 23  DATOP_year             107833 non-null  int64  \n",
      " 24  DATOP_day_of_week      107833 non-null  int64  \n",
      " 25  DATOP_is_year_end      107833 non-null  bool   \n",
      " 26  DATOP_is_year_start    107833 non-null  bool   \n",
      " 27  DATOP_Seasons          107833 non-null  int64  \n",
      " 28  DATOP_Hour             107833 non-null  int64  \n",
      " 29  DATOPpart_of_day       107833 non-null  int64  \n",
      " 30  departure_time         107833 non-null  float64\n",
      " 31  diff_in dept&arr_time  107833 non-null  float64\n",
      " 32  arrival_time           107833 non-null  float64\n",
      "dtypes: bool(6), float64(4), int32(5), int64(18)\n",
      "memory usage: 20.8 MB\n"
     ]
    }
   ],
   "source": [
    "train_data.info()"
   ]
  },
  {
   "cell_type": "code",
   "execution_count": 36,
   "id": "55c685de",
   "metadata": {},
   "outputs": [],
   "source": [
    "for i in train_data.columns:\n",
    "    if train_data[i].dtype == \"bool\":\n",
    "        train_data[i] = Encoder.fit_transform(train[i])"
   ]
  },
  {
   "cell_type": "code",
   "execution_count": 37,
   "id": "912fa2b5",
   "metadata": {},
   "outputs": [],
   "source": [
    "for i in test_data.columns:\n",
    "    if test_data[i].dtype == \"bool\":\n",
    "        test_data[i] = Encoder.fit_transform(test[i])"
   ]
  },
  {
   "cell_type": "code",
   "execution_count": 38,
   "id": "7b0a562c",
   "metadata": {},
   "outputs": [
    {
     "name": "stdout",
     "output_type": "stream",
     "text": [
      "<class 'pandas.core.frame.DataFrame'>\n",
      "RangeIndex: 107833 entries, 0 to 107832\n",
      "Data columns (total 33 columns):\n",
      " #   Column                 Non-Null Count   Dtype  \n",
      "---  ------                 --------------   -----  \n",
      " 0   FLTID                  107833 non-null  int32  \n",
      " 1   DEPSTN                 107833 non-null  int32  \n",
      " 2   ARRSTN                 107833 non-null  int32  \n",
      " 3   STATUS                 107833 non-null  int32  \n",
      " 4   AC                     107833 non-null  int32  \n",
      " 5   target                 107833 non-null  float64\n",
      " 6   STD_month              107833 non-null  int64  \n",
      " 7   STD_year               107833 non-null  int64  \n",
      " 8   STD_day_of_week        107833 non-null  int64  \n",
      " 9   STD_is_year_end        107833 non-null  int64  \n",
      " 10  STD_is_year_start      107833 non-null  int64  \n",
      " 11  STD_Seasons            107833 non-null  int64  \n",
      " 12  STD_Hour               107833 non-null  int64  \n",
      " 13  STDpart_of_day         107833 non-null  int64  \n",
      " 14  STA_month              107833 non-null  int64  \n",
      " 15  STA_year               107833 non-null  int64  \n",
      " 16  STA_day_of_week        107833 non-null  int64  \n",
      " 17  STA_is_year_end        107833 non-null  int64  \n",
      " 18  STA_is_year_start      107833 non-null  int64  \n",
      " 19  STA_Seasons            107833 non-null  int64  \n",
      " 20  STA_Hour               107833 non-null  int64  \n",
      " 21  STApart_of_day         107833 non-null  int64  \n",
      " 22  DATOP_month            107833 non-null  int64  \n",
      " 23  DATOP_year             107833 non-null  int64  \n",
      " 24  DATOP_day_of_week      107833 non-null  int64  \n",
      " 25  DATOP_is_year_end      107833 non-null  int64  \n",
      " 26  DATOP_is_year_start    107833 non-null  int64  \n",
      " 27  DATOP_Seasons          107833 non-null  int64  \n",
      " 28  DATOP_Hour             107833 non-null  int64  \n",
      " 29  DATOPpart_of_day       107833 non-null  int64  \n",
      " 30  departure_time         107833 non-null  float64\n",
      " 31  diff_in dept&arr_time  107833 non-null  float64\n",
      " 32  arrival_time           107833 non-null  float64\n",
      "dtypes: float64(4), int32(5), int64(24)\n",
      "memory usage: 25.1 MB\n"
     ]
    }
   ],
   "source": [
    "train_data.info()"
   ]
  },
  {
   "cell_type": "code",
   "execution_count": 39,
   "id": "d659cd48",
   "metadata": {},
   "outputs": [],
   "source": [
    "X = train_data[[i for i in train_data.columns if i != \"target\"]]\n",
    "y = np.log1p(train_data[\"target\"])\n",
    "from sklearn.preprocessing import StandardScaler\n",
    "scaler = StandardScaler()\n",
    "training = pd.DataFrame(scaler.fit_transform(X), columns = X.columns)"
   ]
  },
  {
   "cell_type": "code",
   "execution_count": 40,
   "id": "c7b67ca6",
   "metadata": {},
   "outputs": [
    {
     "data": {
      "text/plain": [
       "0"
      ]
     },
     "execution_count": 40,
     "metadata": {},
     "output_type": "execute_result"
    }
   ],
   "source": [
    "y.isnull().sum()"
   ]
  },
  {
   "cell_type": "code",
   "execution_count": 41,
   "id": "725853d7",
   "metadata": {},
   "outputs": [],
   "source": [
    "from sklearn.model_selection import KFold\n",
    "from sklearn.metrics import r2_score, mean_squared_error"
   ]
  },
  {
   "cell_type": "code",
   "execution_count": 42,
   "id": "714b7be4",
   "metadata": {},
   "outputs": [],
   "source": [
    "from catboost import *"
   ]
  },
  {
   "cell_type": "code",
   "execution_count": 43,
   "id": "3178a0be",
   "metadata": {},
   "outputs": [
    {
     "name": "stdout",
     "output_type": "stream",
     "text": [
      "0:\tlearn: 1.9340367\ttest: 1.9340367\ttest1: 1.9415015\tbest: 1.9415015 (0)\ttotal: 185ms\tremaining: 3m 5s\n",
      "500:\tlearn: 1.5142497\ttest: 1.5142497\ttest1: 1.5156159\tbest: 1.5156159 (500)\ttotal: 28.9s\tremaining: 28.8s\n",
      "999:\tlearn: 1.4794635\ttest: 1.4794635\ttest1: 1.4876956\tbest: 1.4876956 (999)\ttotal: 50.4s\tremaining: 0us\n",
      "\n",
      "bestTest = 1.487695555\n",
      "bestIteration = 999\n",
      "\n",
      "\n",
      "Fold 1 Val score: 40.759164571389285\n",
      "\n",
      "0:\tlearn: 1.9353481\ttest: 1.9353481\ttest1: 1.9310658\tbest: 1.9310658 (0)\ttotal: 31.5ms\tremaining: 31.5s\n",
      "500:\tlearn: 1.5135890\ttest: 1.5135890\ttest1: 1.5261208\tbest: 1.5261208 (500)\ttotal: 19.8s\tremaining: 19.7s\n",
      "999:\tlearn: 1.4788852\ttest: 1.4788852\ttest1: 1.4963889\tbest: 1.4963889 (999)\ttotal: 38.3s\tremaining: 0us\n",
      "\n",
      "bestTest = 1.496388854\n",
      "bestIteration = 999\n",
      "\n",
      "\n",
      "Fold 2 Val score: 40.49885061041092\n",
      "\n",
      "0:\tlearn: 1.9349865\ttest: 1.9349865\ttest1: 1.9337159\tbest: 1.9337159 (0)\ttotal: 29.8ms\tremaining: 29.8s\n",
      "500:\tlearn: 1.5161020\ttest: 1.5161020\ttest1: 1.5087822\tbest: 1.5087822 (500)\ttotal: 19.5s\tremaining: 19.4s\n",
      "999:\tlearn: 1.4806122\ttest: 1.4806122\ttest1: 1.4819517\tbest: 1.4819517 (999)\ttotal: 37s\tremaining: 0us\n",
      "\n",
      "bestTest = 1.481951738\n",
      "bestIteration = 999\n",
      "\n",
      "\n",
      "Fold 3 Val score: 40.66185180016623\n",
      "\n",
      "0:\tlearn: 1.9343364\ttest: 1.9343364\ttest1: 1.9385929\tbest: 1.9385929 (0)\ttotal: 41.4ms\tremaining: 41.3s\n",
      "500:\tlearn: 1.5108473\ttest: 1.5108473\ttest1: 1.5457362\tbest: 1.5457362 (500)\ttotal: 19.4s\tremaining: 19.3s\n",
      "999:\tlearn: 1.4765031\ttest: 1.4765031\ttest1: 1.5172640\tbest: 1.5172640 (999)\ttotal: 39.8s\tremaining: 0us\n",
      "\n",
      "bestTest = 1.517264042\n",
      "bestIteration = 999\n",
      "\n",
      "\n",
      "Fold 4 Val score: 39.990249025185086\n",
      "\n",
      "0:\tlearn: 1.9347707\ttest: 1.9347707\ttest1: 1.9345315\tbest: 1.9345315 (0)\ttotal: 33.5ms\tremaining: 33.5s\n",
      "500:\tlearn: 1.5144149\ttest: 1.5144149\ttest1: 1.5179250\tbest: 1.5179250 (500)\ttotal: 18.7s\tremaining: 18.6s\n",
      "999:\tlearn: 1.4785340\ttest: 1.4785340\ttest1: 1.4919931\tbest: 1.4919931 (999)\ttotal: 39s\tremaining: 0us\n",
      "\n",
      "bestTest = 1.491993113\n",
      "bestIteration = 999\n",
      "\n",
      "\n",
      "Fold 5 Val score: 40.579625880344544\n",
      "\n",
      "0:\tlearn: 1.9349542\ttest: 1.9349542\ttest1: 1.9328104\tbest: 1.9328104 (0)\ttotal: 105ms\tremaining: 1m 44s\n",
      "500:\tlearn: 1.5132348\ttest: 1.5132348\ttest1: 1.5247950\tbest: 1.5247950 (500)\ttotal: 21.3s\tremaining: 21.2s\n",
      "999:\tlearn: 1.4781160\ttest: 1.4781160\ttest1: 1.5001482\tbest: 1.5001482 (999)\ttotal: 41.3s\tremaining: 0us\n",
      "\n",
      "bestTest = 1.500148183\n",
      "bestIteration = 999\n",
      "\n",
      "\n",
      "Fold 6 Val score: 39.65637264628787\n",
      "\n",
      "0:\tlearn: 1.9347880\ttest: 1.9347880\ttest1: 1.9353106\tbest: 1.9353106 (0)\ttotal: 48.8ms\tremaining: 48.7s\n",
      "500:\tlearn: 1.5139472\ttest: 1.5139472\ttest1: 1.5190437\tbest: 1.5190437 (500)\ttotal: 25.1s\tremaining: 25s\n",
      "999:\tlearn: 1.4788186\ttest: 1.4788186\ttest1: 1.4909956\tbest: 1.4909956 (999)\ttotal: 1m 1s\tremaining: 0us\n",
      "\n",
      "bestTest = 1.490995602\n",
      "bestIteration = 999\n",
      "\n",
      "\n",
      "Fold 7 Val score: 39.66089648215919\n",
      "\n",
      "0:\tlearn: 1.9344659\ttest: 1.9344659\ttest1: 1.9381299\tbest: 1.9381299 (0)\ttotal: 43.2ms\tremaining: 43.1s\n",
      "500:\tlearn: 1.5143121\ttest: 1.5143121\ttest1: 1.5172795\tbest: 1.5172795 (500)\ttotal: 21.6s\tremaining: 21.5s\n",
      "999:\tlearn: 1.4793495\ttest: 1.4793495\ttest1: 1.4894306\tbest: 1.4894306 (999)\ttotal: 42.1s\tremaining: 0us\n",
      "\n",
      "bestTest = 1.489430612\n",
      "bestIteration = 999\n",
      "\n",
      "\n",
      "Fold 8 Val score: 40.253734351490756\n",
      "\n",
      "0:\tlearn: 1.9348944\ttest: 1.9348944\ttest1: 1.9342528\tbest: 1.9342528 (0)\ttotal: 71ms\tremaining: 1m 10s\n",
      "500:\tlearn: 1.5148732\ttest: 1.5148732\ttest1: 1.5180782\tbest: 1.5180782 (500)\ttotal: 21.7s\tremaining: 21.7s\n",
      "999:\tlearn: 1.4794691\ttest: 1.4794691\ttest1: 1.4906257\tbest: 1.4906257 (999)\ttotal: 46.8s\tremaining: 0us\n",
      "\n",
      "bestTest = 1.490625675\n",
      "bestIteration = 999\n",
      "\n",
      "\n",
      "Fold 9 Val score: 40.03000625993804\n",
      "\n",
      "0:\tlearn: 1.9355613\ttest: 1.9355613\ttest1: 1.9284265\tbest: 1.9284265 (0)\ttotal: 55.4ms\tremaining: 55.4s\n",
      "500:\tlearn: 1.5141077\ttest: 1.5141077\ttest1: 1.5178102\tbest: 1.5178102 (500)\ttotal: 23s\tremaining: 22.9s\n",
      "999:\tlearn: 1.4793743\ttest: 1.4793743\ttest1: 1.4901835\tbest: 1.4901835 (999)\ttotal: 44.9s\tremaining: 0us\n",
      "\n",
      "bestTest = 1.490183524\n",
      "bestIteration = 999\n",
      "\n",
      "\n",
      "Fold 10 Val score: 40.31590451959258\n",
      "\n",
      "\n",
      "OOF MAE is : 40.24067672326376\n"
     ]
    }
   ],
   "source": [
    "from sklearn.model_selection import KFold, StratifiedKFold\n",
    "folds = StratifiedKFold(n_splits=10, shuffle=True, random_state=1235)\n",
    "oofs = np.zeros((len(X)))\n",
    "preds = np.zeros((len(test_data)))\n",
    "\n",
    "from sklearn.metrics import accuracy_score,confusion_matrix,roc_auc_score, mean_squared_error, mean_absolute_error\n",
    "\n",
    "for fold_, (trn_idx, val_idx) in enumerate(folds.split(X, pd.qcut(y, 10, labels=False, duplicates='drop'))):\n",
    "    \n",
    "    X_trn, y_trn = X.iloc[trn_idx], y.iloc[trn_idx]\n",
    "    X_val, y_val = X.iloc[val_idx], y.iloc[val_idx]\n",
    "    \n",
    "\n",
    "    clf = CatBoostRegressor(learning_rate=0.03, depth=5, use_best_model=True, l2_leaf_reg=0.2, colsample_bylevel=0.7)\n",
    "    clf.fit(X_trn, y_trn, eval_set=[(X_trn, y_trn),(X_val, y_val)], early_stopping_rounds=100,verbose=500)\n",
    "    \n",
    "    vp = clf.predict(X_val)\n",
    "    val_score = mean_absolute_error(np.expm1(vp), np.expm1(y_val))\n",
    "    \n",
    "    print(f'\\nFold {fold_+1} Val score: {val_score}\\n')\n",
    "    \n",
    "    tp = clf.predict(test_data)\n",
    "    \n",
    "    oofs[val_idx] = vp\n",
    "    preds += tp/10\n",
    "\n",
    "    \n",
    "oof_score = mean_absolute_error(np.expm1(y), np.expm1(oofs))\n",
    "print(f'\\nOOF MAE is : {oof_score}')"
   ]
  },
  {
   "cell_type": "code",
   "execution_count": 44,
   "id": "9ad3b3c0",
   "metadata": {},
   "outputs": [
    {
     "data": {
      "text/plain": [
       "117.27259902509094"
      ]
     },
     "execution_count": 44,
     "metadata": {},
     "output_type": "execute_result"
    }
   ],
   "source": [
    "rmse = np.sqrt(mean_squared_error(np.expm1(y), np.expm1(oofs)))\n",
    "rmse"
   ]
  },
  {
   "cell_type": "code",
   "execution_count": 45,
   "id": "a98cda61",
   "metadata": {},
   "outputs": [],
   "source": [
    "import xgboost as xgb\n",
    "xgb_acc_list = []\n",
    "kf = KFold(n_splits=5, shuffle=True, random_state=1)\n",
    "  \n",
    "for train_index, test_index in kf.split(X,y):\n",
    "    X_train, X_test = X.loc[train_index], X.loc[test_index]\n",
    "    y_train, y_test = y.loc[train_index], y.loc[test_index]\n",
    "    \n",
    "    xgboost = xgb.XGBRegressor(n_estimators = 350, max_depth = 5, learning_rate = 0.1, n_jobs = -1, random_state = 0)\n",
    "    \n",
    "    xgboost.fit(X_train, y_train)\n",
    "    xgboost_pred = xgboost.predict(X_test)\n",
    "\n",
    "    xgb_acc_list.append(np.sqrt(mean_squared_error(np.expm1(y_test), np.expm1(xgboost_pred))))"
   ]
  },
  {
   "cell_type": "code",
   "execution_count": 46,
   "id": "516354e6",
   "metadata": {},
   "outputs": [
    {
     "data": {
      "text/plain": [
       "115.75480213958903"
      ]
     },
     "execution_count": 46,
     "metadata": {},
     "output_type": "execute_result"
    }
   ],
   "source": [
    "np.mean(xgb_acc_list)"
   ]
  },
  {
   "cell_type": "code",
   "execution_count": 47,
   "id": "3508c47d",
   "metadata": {},
   "outputs": [],
   "source": [
    "from sklearn.model_selection import GridSearchCV, RandomizedSearchCV"
   ]
  },
  {
   "cell_type": "code",
   "execution_count": 53,
   "id": "5bf2776b",
   "metadata": {},
   "outputs": [
    {
     "data": {
      "text/plain": [
       "XGBRegressor(base_score=0.5, booster='gbtree', colsample_bylevel=1,\n",
       "             colsample_bynode=1, colsample_bytree=1, gamma=0, gpu_id=-1,\n",
       "             importance_type='gain', interaction_constraints='',\n",
       "             learning_rate=0.1, max_delta_step=0, max_depth=7,\n",
       "             min_child_weight=1, missing=nan, monotone_constraints='()',\n",
       "             n_estimators=400, n_jobs=4, num_parallel_tree=1, random_state=0,\n",
       "             reg_alpha=0, reg_lambda=1, scale_pos_weight=1, subsample=1,\n",
       "             tree_method='exact', validate_parameters=1, verbosity=None)"
      ]
     },
     "execution_count": 53,
     "metadata": {},
     "output_type": "execute_result"
    }
   ],
   "source": [
    "params = {\"n_estimators\": range(100,1000,100),\n",
    "          \"max_depth\": range(3,15,2),\n",
    "          \"learning_rate\": np.arange(0,1,0.1)}\n",
    "# kfold = StratifiedKFold(n_splits = 5, shuffle = True, random_state = 0)\n",
    "grid_xgb = RandomizedSearchCV(xgb.XGBRegressor(random_state = 0), param_distributions = params, cv = 5 , n_jobs = -1)\n",
    "grid_xgb.fit(X_train, y_train)\n",
    "grid_xgb.best_estimator_"
   ]
  },
  {
   "cell_type": "code",
   "execution_count": 49,
   "id": "7d14515b",
   "metadata": {},
   "outputs": [],
   "source": [
    "import lightgbm as lgbm"
   ]
  },
  {
   "cell_type": "code",
   "execution_count": 50,
   "id": "4ecae4c9",
   "metadata": {},
   "outputs": [],
   "source": [
    "lgb_acc_list = []\n",
    "kf = KFold(n_splits=5, shuffle=True, random_state=1)\n",
    "  \n",
    "for train_index, test_index in kf.split(X,y):\n",
    "    X_train, X_test = X.loc[train_index], X.loc[test_index]\n",
    "    y_train, y_test = y.loc[train_index], y.loc[test_index]\n",
    "    \n",
    "    lgb = lgbm.LGBMRegressor(learning_rate=0.2, max_depth=10, n_estimators=500, num_leaves=8,\n",
    "                             n_jobs = -1, random_state = 0)\n",
    "    \n",
    "    lgb.fit(X_train, y_train)\n",
    "    lgb_pred = lgb.predict(X_test)\n",
    "\n",
    "    lgb_acc_list.append(np.sqrt(mean_squared_error(np.expm1(y_test), np.expm1(lgb_pred))))"
   ]
  },
  {
   "cell_type": "code",
   "execution_count": 51,
   "id": "84c0badb",
   "metadata": {},
   "outputs": [
    {
     "data": {
      "text/plain": [
       "115.98544017484906"
      ]
     },
     "execution_count": 51,
     "metadata": {},
     "output_type": "execute_result"
    }
   ],
   "source": [
    "np.mean(lgb_acc_list)"
   ]
  },
  {
   "cell_type": "code",
   "execution_count": 52,
   "id": "efa32873",
   "metadata": {},
   "outputs": [
    {
     "data": {
      "text/plain": [
       "LGBMRegressor(learning_rate=0.15000000000000002, max_depth=3, n_estimators=800,\n",
       "              num_leaves=8, random_state=0)"
      ]
     },
     "execution_count": 52,
     "metadata": {},
     "output_type": "execute_result"
    }
   ],
   "source": [
    "params = {\"n_estimators\": range(100,1000,100),\n",
    "          \"max_depth\": range(3,15,2),\n",
    "          \"learning_rate\": np.arange(0,1,0.05),\n",
    "          \"num_leaves\": range(2,10)}\n",
    "# kfold = StratifiedKFold(n_splits = 5, shuffle = True, random_state = 0)\n",
    "grid_lgbm = RandomizedSearchCV(lgbm.LGBMRegressor(random_state = 0), param_distributions = params, cv = 5 , n_jobs = -1)\n",
    "grid_lgbm.fit(X_train, y_train)\n",
    "grid_lgbm.best_estimator_"
   ]
  },
  {
   "cell_type": "code",
   "execution_count": null,
   "id": "7fee246b",
   "metadata": {},
   "outputs": [],
   "source": [
    "params = {\"n_estimators\": range(450,600,50),\n",
    "          \"max_depth\": range(10,15),\n",
    "          \"learning_rate\": np.arange(0.2,0.4,0.05),\n",
    "          \"num_leaves\": range(5,10)}\n",
    "# kfold = StratifiedKFold(n_splits = 5, shuffle = True, random_state = 0)\n",
    "grid_lgbm = GridSearchCV(lgbm.LGBMRegressor(random_state = 0), param_grid = params, cv = 5 , \n",
    "                         n_jobs = -1, scoring = \"neg_mean_squared_error\")\n",
    "grid_lgbm.fit(X_train, y_train)\n",
    "grid_lgbm.best_estimator_"
   ]
  },
  {
   "cell_type": "code",
   "execution_count": 57,
   "id": "78410817",
   "metadata": {},
   "outputs": [
    {
     "data": {
      "text/html": [
       "<div>\n",
       "<style scoped>\n",
       "    .dataframe tbody tr th:only-of-type {\n",
       "        vertical-align: middle;\n",
       "    }\n",
       "\n",
       "    .dataframe tbody tr th {\n",
       "        vertical-align: top;\n",
       "    }\n",
       "\n",
       "    .dataframe thead th {\n",
       "        text-align: right;\n",
       "    }\n",
       "</style>\n",
       "<table border=\"1\" class=\"dataframe\">\n",
       "  <thead>\n",
       "    <tr style=\"text-align: right;\">\n",
       "      <th></th>\n",
       "      <th>ID</th>\n",
       "      <th>target</th>\n",
       "    </tr>\n",
       "  </thead>\n",
       "  <tbody>\n",
       "    <tr>\n",
       "      <th>0</th>\n",
       "      <td>test_id_0</td>\n",
       "      <td>2470</td>\n",
       "    </tr>\n",
       "    <tr>\n",
       "      <th>1</th>\n",
       "      <td>test_id_1</td>\n",
       "      <td>2944</td>\n",
       "    </tr>\n",
       "    <tr>\n",
       "      <th>2</th>\n",
       "      <td>test_id_2</td>\n",
       "      <td>2585</td>\n",
       "    </tr>\n",
       "    <tr>\n",
       "      <th>3</th>\n",
       "      <td>test_id_3</td>\n",
       "      <td>3264</td>\n",
       "    </tr>\n",
       "    <tr>\n",
       "      <th>4</th>\n",
       "      <td>test_id_4</td>\n",
       "      <td>1369</td>\n",
       "    </tr>\n",
       "  </tbody>\n",
       "</table>\n",
       "</div>"
      ],
      "text/plain": [
       "          ID  target\n",
       "0  test_id_0    2470\n",
       "1  test_id_1    2944\n",
       "2  test_id_2    2585\n",
       "3  test_id_3    3264\n",
       "4  test_id_4    1369"
      ]
     },
     "execution_count": 57,
     "metadata": {},
     "output_type": "execute_result"
    }
   ],
   "source": [
    "sample_submission.head()"
   ]
  },
  {
   "cell_type": "code",
   "execution_count": 60,
   "id": "85b0b9ca",
   "metadata": {},
   "outputs": [],
   "source": [
    "sample_submission[\"target\"] = np.expm1(xgboost.predict(test_data))"
   ]
  },
  {
   "cell_type": "code",
   "execution_count": 61,
   "id": "a94eba96",
   "metadata": {},
   "outputs": [
    {
     "data": {
      "text/plain": [
       "0    64.110542\n",
       "1     1.421101\n",
       "2    33.753216\n",
       "3     6.093468\n",
       "4     4.573025\n",
       "Name: target, dtype: float32"
      ]
     },
     "execution_count": 61,
     "metadata": {},
     "output_type": "execute_result"
    }
   ],
   "source": [
    "sample_submission[\"target\"].head()"
   ]
  },
  {
   "cell_type": "code",
   "execution_count": 63,
   "id": "63396aac",
   "metadata": {},
   "outputs": [],
   "source": [
    "sample_submission.to_csv(\"submission\", index = False)"
   ]
  },
  {
   "cell_type": "code",
   "execution_count": 64,
   "id": "b0e2d9b1",
   "metadata": {},
   "outputs": [],
   "source": [
    "import pickle\n",
    "filename = 'flight_pred.pkl'\n",
    "pickle.dump(xgboost, open(filename, 'wb'))"
   ]
  },
  {
   "cell_type": "code",
   "execution_count": null,
   "id": "0bbd4921",
   "metadata": {},
   "outputs": [],
   "source": []
  }
 ],
 "metadata": {
  "kernelspec": {
   "display_name": "Python 3",
   "language": "python",
   "name": "python3"
  },
  "language_info": {
   "codemirror_mode": {
    "name": "ipython",
    "version": 3
   },
   "file_extension": ".py",
   "mimetype": "text/x-python",
   "name": "python",
   "nbconvert_exporter": "python",
   "pygments_lexer": "ipython3",
   "version": "3.8.8"
  }
 },
 "nbformat": 4,
 "nbformat_minor": 5
}
